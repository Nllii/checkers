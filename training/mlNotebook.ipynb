{
 "cells": [
  {
   "cell_type": "code",
   "execution_count": null,
   "metadata": {},
   "outputs": [],
   "source": [
    "from jmd_imagescraper.core import * # dont't worry, it's designed to work with import *\n",
    "from pathlib import Path\n",
    "\n",
    "root = Path().cwd()/\"images\"\n",
    "\n",
    "duckduckgo_search(root, \"Checkers\", \"checkers game board\", max_results=1000)\n"
   ]
  },
  {
   "cell_type": "code",
   "execution_count": null,
   "metadata": {},
   "outputs": [],
   "source": [
    "from jmd_imagescraper.imagecleaner import *\n",
    "display_image_cleaner(root)\n"
   ]
  },
  {
   "cell_type": "code",
   "execution_count": null,
   "metadata": {},
   "outputs": [],
   "source": []
  }
 ],
 "metadata": {
  "kernelspec": {
   "display_name": "base",
   "language": "python",
   "name": "python3"
  },
  "language_info": {
   "codemirror_mode": {
    "name": "ipython",
    "version": 3
   },
   "file_extension": ".py",
   "mimetype": "text/x-python",
   "name": "python",
   "nbconvert_exporter": "python",
   "pygments_lexer": "ipython3",
   "version": "3.10.9"
  },
  "orig_nbformat": 4,
  "vscode": {
   "interpreter": {
    "hash": "dda1421a4623c0d303d532d076c2828518198b8fbfe0c8eaa8b2cbd5294c0c97"
   }
  }
 },
 "nbformat": 4,
 "nbformat_minor": 2
}
